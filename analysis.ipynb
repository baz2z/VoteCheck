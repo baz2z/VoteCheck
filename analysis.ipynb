{
 "cells": [
  {
   "cell_type": "code",
   "execution_count": null,
   "metadata": {
    "vscode": {
     "languageId": "plaintext"
    }
   },
   "outputs": [],
   "source": [
    "import pandas as pd\n",
    "\n",
    "# Read the combined DataFrame from the CSV file\n",
    "combined_df = pd.read_csv('dat/combined_data.csv')\n",
    "\n",
    "# Convert the 'Date' column to datetime format\n",
    "combined_df['Date'] = pd.to_datetime(combined_df['Date'], format='%d.%m.%Y')\n",
    "\n",
    "# Filter the DataFrame to include only votes after 2020\n",
    "filtered_df = combined_df[combined_df['Date'] > '2021-10-26']\n",
    "\n",
    "# Combine the 'Name' and 'Vorname' columns to create a full name column\n",
    "filtered_df['FullName'] = filtered_df['Vorname'] + ' ' + filtered_df['Name']\n",
    "\n",
    "# Group by 'FullName' and calculate the total votes and 'yes' votes for each person\n",
    "vote_counts = filtered_df.groupby('FullName').agg(\n",
    "    total_votes=('ja', 'size'),\n",
    "    yes_votes=('ja', 'sum')\n",
    ").reset_index()\n",
    "\n",
    "# Calculate the relative score (ratio of 'yes' votes to total votes)\n",
    "vote_counts['relative_yes_score'] = vote_counts['yes_votes'] / vote_counts['total_votes']\n",
    "\n",
    "# Sort the DataFrame by the relative yes score in descending order\n",
    "vote_counts = vote_counts.sort_values(by='relative_yes_score', ascending=False)\n",
    "\n",
    "# Find the person with the highest relative 'yes' score\n",
    "highest_relative_yes_score = vote_counts.iloc[0]\n",
    "\n",
    "# Display the result\n",
    "print(f\"The person with the highest relative 'yes' score is {highest_relative_yes_score['FullName']} with a score of {highest_relative_yes_score['relative_yes_score']:.2f}.\")\n",
    "\n",
    "# Display the sorted DataFrame with relative scores\n",
    "print(vote_counts[:100])\n",
    "print(vote_counts[-20:])\n"
   ]
  }
 ],
 "metadata": {
  "language_info": {
   "name": "python"
  }
 },
 "nbformat": 4,
 "nbformat_minor": 2
}
